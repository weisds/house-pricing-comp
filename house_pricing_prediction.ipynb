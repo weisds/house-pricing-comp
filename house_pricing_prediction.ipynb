{
 "cells": [
  {
   "cell_type": "code",
   "execution_count": 1,
   "metadata": {},
   "outputs": [
    {
     "name": "stdout",
     "output_type": "stream",
     "text": [
      "pandas version: 1.0.5\n",
      "matplotlib version: 3.2.2\n",
      "NumPy version: 1.18.5\n",
      "SciPy version: 1.5.0\n",
      "IPython version: 7.16.1\n",
      "scikit-learn version: 0.23.1\n",
      "seaborn version: 0.10.1\n",
      "-------------------------\n"
     ]
    }
   ],
   "source": [
    "# This block is from https://www.kaggle.com/ldfreeman3/a-data-science-framework-to-achieve-99-accuracy\n",
    "# This Python 3 environment comes with many helpful analytics libraries installed\n",
    "# It is defined by the kaggle/python docker image: https://github.com/kaggle/docker-python\n",
    "\n",
    "#load packages\n",
    "import sys #access to system parameters https://docs.python.org/3/library/sys.html\n",
    "print(\"Python version: {}\". format(sys.version))\n",
    "\n",
    "import pandas as pd #collection of functions for data processing and analysis modeled after R dataframes with SQL like features\n",
    "print(\"pandas version: {}\". format(pd.__version__))\n",
    "\n",
    "import matplotlib #collection of functions for scientific and publication-ready visualization\n",
    "print(\"matplotlib version: {}\". format(matplotlib.__version__))\n",
    "\n",
    "import numpy as np #foundational package for scientific computing\n",
    "print(\"NumPy version: {}\". format(np.__version__))\n",
    "\n",
    "import scipy as sp #collection of functions for scientific computing and advance mathematics\n",
    "print(\"SciPy version: {}\". format(sp.__version__)) \n",
    "\n",
    "import IPython\n",
    "from IPython import display #pretty printing of dataframes in Jupyter notebook\n",
    "print(\"IPython version: {}\". format(IPython.__version__)) \n",
    "\n",
    "import sklearn #collection of machine learning algorithms\n",
    "print(\"scikit-learn version: {}\". format(sklearn.__version__))\n",
    "\n",
    "import seaborn as sns #collection of functions for data visualization\n",
    "print(\"seaborn version: {}\". format(sns.__version__))\n",
    "\n",
    "import matplotlib.pyplot as plt\n",
    "\n",
    "from sklearn.preprocessing import OneHotEncoder #OneHot Encoder\n",
    "\n",
    "#misc libraries\n",
    "import random\n",
    "import time\n",
    "\n",
    "%matplotlib inline\n",
    "\n",
    "#ignore warnings\n",
    "import warnings\n",
    "warnings.filterwarnings('ignore')\n",
    "print('-'*25)\n"
   ]
  },
  {
   "cell_type": "markdown",
   "metadata": {},
   "source": [
    "## Load the files"
   ]
  },
  {
   "cell_type": "code",
   "execution_count": 2,
   "metadata": {},
   "outputs": [],
   "source": [
    "train_raw = pd.read_csv('data/train.csv')\n",
    "test_raw = pd.read_csv('data/test.csv')\n",
    "sample_raw = pd.read_csv('data/sample_submission.csv')"
   ]
  },
  {
   "cell_type": "code",
   "execution_count": 3,
   "metadata": {},
   "outputs": [
    {
     "name": "stdout",
     "output_type": "stream",
     "text": [
      "<class 'pandas.core.frame.DataFrame'>\n",
      "RangeIndex: 1460 entries, 0 to 1459\n",
      "Data columns (total 81 columns):\n",
      " #   Column         Non-Null Count  Dtype  \n",
      "---  ------         --------------  -----  \n",
      " 0   Id             1460 non-null   int64  \n",
      " 1   MSSubClass     1460 non-null   int64  \n",
      " 2   MSZoning       1460 non-null   object \n",
      " 3   LotFrontage    1201 non-null   float64\n",
      " 4   LotArea        1460 non-null   int64  \n",
      " 5   Street         1460 non-null   object \n",
      " 6   Alley          91 non-null     object \n",
      " 7   LotShape       1460 non-null   object \n",
      " 8   LandContour    1460 non-null   object \n",
      " 9   Utilities      1460 non-null   object \n",
      " 10  LotConfig      1460 non-null   object \n",
      " 11  LandSlope      1460 non-null   object \n",
      " 12  Neighborhood   1460 non-null   object \n",
      " 13  Condition1     1460 non-null   object \n",
      " 14  Condition2     1460 non-null   object \n",
      " 15  BldgType       1460 non-null   object \n",
      " 16  HouseStyle     1460 non-null   object \n",
      " 17  OverallQual    1460 non-null   int64  \n",
      " 18  OverallCond    1460 non-null   int64  \n",
      " 19  YearBuilt      1460 non-null   int64  \n",
      " 20  YearRemodAdd   1460 non-null   int64  \n",
      " 21  RoofStyle      1460 non-null   object \n",
      " 22  RoofMatl       1460 non-null   object \n",
      " 23  Exterior1st    1460 non-null   object \n",
      " 24  Exterior2nd    1460 non-null   object \n",
      " 25  MasVnrType     1452 non-null   object \n",
      " 26  MasVnrArea     1452 non-null   float64\n",
      " 27  ExterQual      1460 non-null   object \n",
      " 28  ExterCond      1460 non-null   object \n",
      " 29  Foundation     1460 non-null   object \n",
      " 30  BsmtQual       1423 non-null   object \n",
      " 31  BsmtCond       1423 non-null   object \n",
      " 32  BsmtExposure   1422 non-null   object \n",
      " 33  BsmtFinType1   1423 non-null   object \n",
      " 34  BsmtFinSF1     1460 non-null   int64  \n",
      " 35  BsmtFinType2   1422 non-null   object \n",
      " 36  BsmtFinSF2     1460 non-null   int64  \n",
      " 37  BsmtUnfSF      1460 non-null   int64  \n",
      " 38  TotalBsmtSF    1460 non-null   int64  \n",
      " 39  Heating        1460 non-null   object \n",
      " 40  HeatingQC      1460 non-null   object \n",
      " 41  CentralAir     1460 non-null   object \n",
      " 42  Electrical     1459 non-null   object \n",
      " 43  1stFlrSF       1460 non-null   int64  \n",
      " 44  2ndFlrSF       1460 non-null   int64  \n",
      " 45  LowQualFinSF   1460 non-null   int64  \n",
      " 46  GrLivArea      1460 non-null   int64  \n",
      " 47  BsmtFullBath   1460 non-null   int64  \n",
      " 48  BsmtHalfBath   1460 non-null   int64  \n",
      " 49  FullBath       1460 non-null   int64  \n",
      " 50  HalfBath       1460 non-null   int64  \n",
      " 51  BedroomAbvGr   1460 non-null   int64  \n",
      " 52  KitchenAbvGr   1460 non-null   int64  \n",
      " 53  KitchenQual    1460 non-null   object \n",
      " 54  TotRmsAbvGrd   1460 non-null   int64  \n",
      " 55  Functional     1460 non-null   object \n",
      " 56  Fireplaces     1460 non-null   int64  \n",
      " 57  FireplaceQu    770 non-null    object \n",
      " 58  GarageType     1379 non-null   object \n",
      " 59  GarageYrBlt    1379 non-null   float64\n",
      " 60  GarageFinish   1379 non-null   object \n",
      " 61  GarageCars     1460 non-null   int64  \n",
      " 62  GarageArea     1460 non-null   int64  \n",
      " 63  GarageQual     1379 non-null   object \n",
      " 64  GarageCond     1379 non-null   object \n",
      " 65  PavedDrive     1460 non-null   object \n",
      " 66  WoodDeckSF     1460 non-null   int64  \n",
      " 67  OpenPorchSF    1460 non-null   int64  \n",
      " 68  EnclosedPorch  1460 non-null   int64  \n",
      " 69  3SsnPorch      1460 non-null   int64  \n",
      " 70  ScreenPorch    1460 non-null   int64  \n",
      " 71  PoolArea       1460 non-null   int64  \n",
      " 72  PoolQC         7 non-null      object \n",
      " 73  Fence          281 non-null    object \n",
      " 74  MiscFeature    54 non-null     object \n",
      " 75  MiscVal        1460 non-null   int64  \n",
      " 76  MoSold         1460 non-null   int64  \n",
      " 77  YrSold         1460 non-null   int64  \n",
      " 78  SaleType       1460 non-null   object \n",
      " 79  SaleCondition  1460 non-null   object \n",
      " 80  SalePrice      1460 non-null   int64  \n",
      "dtypes: float64(3), int64(35), object(43)\n",
      "memory usage: 924.0+ KB\n"
     ]
    }
   ],
   "source": [
    "train_raw.info()"
   ]
  },
  {
   "cell_type": "code",
   "execution_count": 4,
   "metadata": {},
   "outputs": [],
   "source": [
    "def null_p (column):\n",
    "    num_rows = train_raw.shape[0]\n",
    "    null_percent = (column.isnull().sum() /num_rows)*100\n",
    "    return null_percent"
   ]
  },
  {
   "cell_type": "code",
   "execution_count": 5,
   "metadata": {},
   "outputs": [],
   "source": [
    "#drop columns with more than null_bar% of null data\n",
    "def drop_null_col (df, null_bar):\n",
    "    col_ls = []\n",
    "    for col in df.columns:\n",
    "\n",
    "        if null_p(df[col]) > null_bar:\n",
    "            col_ls.append(col)\n",
    "        \n",
    "    return col_ls"
   ]
  },
  {
   "cell_type": "code",
   "execution_count": 6,
   "metadata": {},
   "outputs": [],
   "source": [
    "#get a list of columns to drop\n",
    "cols_drop = drop_null_col(train_raw, 40)"
   ]
  },
  {
   "cell_type": "code",
   "execution_count": 7,
   "metadata": {},
   "outputs": [
    {
     "data": {
      "text/plain": [
       "['Alley', 'FireplaceQu', 'PoolQC', 'Fence', 'MiscFeature']"
      ]
     },
     "execution_count": 7,
     "metadata": {},
     "output_type": "execute_result"
    }
   ],
   "source": [
    "cols_drop"
   ]
  },
  {
   "cell_type": "code",
   "execution_count": 8,
   "metadata": {},
   "outputs": [],
   "source": [
    "#generate a df with all the cols with 40% or more null data dropped\n",
    "train_data_dnull = train_raw.copy().drop(cols_drop, axis = 1)"
   ]
  },
  {
   "cell_type": "code",
   "execution_count": 9,
   "metadata": {},
   "outputs": [],
   "source": [
    "def null_p_df (df):\n",
    "    p_ls = []\n",
    "    type_ls = []\n",
    "    for col in df.columns:\n",
    "        n_percent = null_p(df[col])\n",
    "        p_ls.append(n_percent)\n",
    "        type_ls.append(df[col].dtype)\n",
    "    np_df = pd.DataFrame({'Column Name': df.columns, \"Null Percent\": p_ls, \"Data Type\": type_ls})\n",
    "    return np_df"
   ]
  },
  {
   "cell_type": "code",
   "execution_count": 10,
   "metadata": {},
   "outputs": [],
   "source": [
    "np_df = null_p_df(train_data_dnull)"
   ]
  },
  {
   "cell_type": "code",
   "execution_count": 11,
   "metadata": {},
   "outputs": [
    {
     "data": {
      "text/html": [
       "<div>\n",
       "<style scoped>\n",
       "    .dataframe tbody tr th:only-of-type {\n",
       "        vertical-align: middle;\n",
       "    }\n",
       "\n",
       "    .dataframe tbody tr th {\n",
       "        vertical-align: top;\n",
       "    }\n",
       "\n",
       "    .dataframe thead th {\n",
       "        text-align: right;\n",
       "    }\n",
       "</style>\n",
       "<table border=\"1\" class=\"dataframe\">\n",
       "  <thead>\n",
       "    <tr style=\"text-align: right;\">\n",
       "      <th></th>\n",
       "      <th>Column Name</th>\n",
       "      <th>Null Percent</th>\n",
       "      <th>Data Type</th>\n",
       "    </tr>\n",
       "  </thead>\n",
       "  <tbody>\n",
       "    <tr>\n",
       "      <th>3</th>\n",
       "      <td>LotFrontage</td>\n",
       "      <td>17.739726</td>\n",
       "      <td>float64</td>\n",
       "    </tr>\n",
       "    <tr>\n",
       "      <th>56</th>\n",
       "      <td>GarageType</td>\n",
       "      <td>5.547945</td>\n",
       "      <td>object</td>\n",
       "    </tr>\n",
       "    <tr>\n",
       "      <th>62</th>\n",
       "      <td>GarageCond</td>\n",
       "      <td>5.547945</td>\n",
       "      <td>object</td>\n",
       "    </tr>\n",
       "    <tr>\n",
       "      <th>57</th>\n",
       "      <td>GarageYrBlt</td>\n",
       "      <td>5.547945</td>\n",
       "      <td>float64</td>\n",
       "    </tr>\n",
       "    <tr>\n",
       "      <th>58</th>\n",
       "      <td>GarageFinish</td>\n",
       "      <td>5.547945</td>\n",
       "      <td>object</td>\n",
       "    </tr>\n",
       "    <tr>\n",
       "      <th>61</th>\n",
       "      <td>GarageQual</td>\n",
       "      <td>5.547945</td>\n",
       "      <td>object</td>\n",
       "    </tr>\n",
       "    <tr>\n",
       "      <th>34</th>\n",
       "      <td>BsmtFinType2</td>\n",
       "      <td>2.602740</td>\n",
       "      <td>object</td>\n",
       "    </tr>\n",
       "    <tr>\n",
       "      <th>31</th>\n",
       "      <td>BsmtExposure</td>\n",
       "      <td>2.602740</td>\n",
       "      <td>object</td>\n",
       "    </tr>\n",
       "    <tr>\n",
       "      <th>32</th>\n",
       "      <td>BsmtFinType1</td>\n",
       "      <td>2.534247</td>\n",
       "      <td>object</td>\n",
       "    </tr>\n",
       "    <tr>\n",
       "      <th>30</th>\n",
       "      <td>BsmtCond</td>\n",
       "      <td>2.534247</td>\n",
       "      <td>object</td>\n",
       "    </tr>\n",
       "    <tr>\n",
       "      <th>29</th>\n",
       "      <td>BsmtQual</td>\n",
       "      <td>2.534247</td>\n",
       "      <td>object</td>\n",
       "    </tr>\n",
       "    <tr>\n",
       "      <th>25</th>\n",
       "      <td>MasVnrArea</td>\n",
       "      <td>0.547945</td>\n",
       "      <td>float64</td>\n",
       "    </tr>\n",
       "    <tr>\n",
       "      <th>24</th>\n",
       "      <td>MasVnrType</td>\n",
       "      <td>0.547945</td>\n",
       "      <td>object</td>\n",
       "    </tr>\n",
       "    <tr>\n",
       "      <th>41</th>\n",
       "      <td>Electrical</td>\n",
       "      <td>0.068493</td>\n",
       "      <td>object</td>\n",
       "    </tr>\n",
       "    <tr>\n",
       "      <th>63</th>\n",
       "      <td>PavedDrive</td>\n",
       "      <td>0.000000</td>\n",
       "      <td>object</td>\n",
       "    </tr>\n",
       "    <tr>\n",
       "      <th>64</th>\n",
       "      <td>WoodDeckSF</td>\n",
       "      <td>0.000000</td>\n",
       "      <td>int64</td>\n",
       "    </tr>\n",
       "    <tr>\n",
       "      <th>44</th>\n",
       "      <td>LowQualFinSF</td>\n",
       "      <td>0.000000</td>\n",
       "      <td>int64</td>\n",
       "    </tr>\n",
       "    <tr>\n",
       "      <th>45</th>\n",
       "      <td>GrLivArea</td>\n",
       "      <td>0.000000</td>\n",
       "      <td>int64</td>\n",
       "    </tr>\n",
       "    <tr>\n",
       "      <th>46</th>\n",
       "      <td>BsmtFullBath</td>\n",
       "      <td>0.000000</td>\n",
       "      <td>int64</td>\n",
       "    </tr>\n",
       "    <tr>\n",
       "      <th>47</th>\n",
       "      <td>BsmtHalfBath</td>\n",
       "      <td>0.000000</td>\n",
       "      <td>int64</td>\n",
       "    </tr>\n",
       "  </tbody>\n",
       "</table>\n",
       "</div>"
      ],
      "text/plain": [
       "     Column Name  Null Percent Data Type\n",
       "3    LotFrontage     17.739726   float64\n",
       "56    GarageType      5.547945    object\n",
       "62    GarageCond      5.547945    object\n",
       "57   GarageYrBlt      5.547945   float64\n",
       "58  GarageFinish      5.547945    object\n",
       "61    GarageQual      5.547945    object\n",
       "34  BsmtFinType2      2.602740    object\n",
       "31  BsmtExposure      2.602740    object\n",
       "32  BsmtFinType1      2.534247    object\n",
       "30      BsmtCond      2.534247    object\n",
       "29      BsmtQual      2.534247    object\n",
       "25    MasVnrArea      0.547945   float64\n",
       "24    MasVnrType      0.547945    object\n",
       "41    Electrical      0.068493    object\n",
       "63    PavedDrive      0.000000    object\n",
       "64    WoodDeckSF      0.000000     int64\n",
       "44  LowQualFinSF      0.000000     int64\n",
       "45     GrLivArea      0.000000     int64\n",
       "46  BsmtFullBath      0.000000     int64\n",
       "47  BsmtHalfBath      0.000000     int64"
      ]
     },
     "execution_count": 11,
     "metadata": {},
     "output_type": "execute_result"
    }
   ],
   "source": [
    "np_df.sort_values(by = 'Null Percent',  ascending=False).head(20)"
   ]
  },
  {
   "cell_type": "code",
   "execution_count": 12,
   "metadata": {},
   "outputs": [
    {
     "data": {
      "text/plain": [
       "<matplotlib.axes._subplots.AxesSubplot at 0x2091edf2460>"
      ]
     },
     "execution_count": 12,
     "metadata": {},
     "output_type": "execute_result"
    },
    {
     "data": {
      "image/png": "[encoded data removed]",
      "text/plain": [
       "<Figure size 432x288 with 1 Axes>"
      ]
     },
     "metadata": {
      "needs_background": "light"
     },
     "output_type": "display_data"
    }
   ],
   "source": [
    "#need special attention on LotFrontage, let's take a look at the distribution \n",
    "train_data_dnull.LotFrontage.hist()"
   ]
  },
  {
   "cell_type": "markdown",
   "metadata": {},
   "source": [
    "#### Observation\n",
    "Fairly normal distributed, some outliers at 300"
   ]
  },
  {
   "cell_type": "code",
   "execution_count": 13,
   "metadata": {},
   "outputs": [
    {
     "data": {
      "image/png": "[encoded data removed]",
      "text/plain": [
       "<Figure size 432x288 with 1 Axes>"
      ]
     },
     "metadata": {
      "needs_background": "light"
     },
     "output_type": "display_data"
    }
   ],
   "source": [
    "#let's look at how it relates to our target\n",
    "train_data_dnull.plot.scatter(x='SalePrice', y='LotFrontage', ylim=(0,400));"
   ]
  },
  {
   "cell_type": "markdown",
   "metadata": {},
   "source": [
    "#### Observation\n",
    "Doesnt seem like there are any trend in relation to SalePrice\n",
    "\n",
    "#### Action Plan\n",
    "We can fillna with mean"
   ]
  },
  {
   "cell_type": "code",
   "execution_count": 14,
   "metadata": {},
   "outputs": [
    {
     "data": {
      "text/html": [
       "<div>\n",
       "<style scoped>\n",
       "    .dataframe tbody tr th:only-of-type {\n",
       "        vertical-align: middle;\n",
       "    }\n",
       "\n",
       "    .dataframe tbody tr th {\n",
       "        vertical-align: top;\n",
       "    }\n",
       "\n",
       "    .dataframe thead th {\n",
       "        text-align: right;\n",
       "    }\n",
       "</style>\n",
       "<table border=\"1\" class=\"dataframe\">\n",
       "  <thead>\n",
       "    <tr style=\"text-align: right;\">\n",
       "      <th></th>\n",
       "      <th>Column Name</th>\n",
       "      <th>Null Percent</th>\n",
       "      <th>Data Type</th>\n",
       "    </tr>\n",
       "  </thead>\n",
       "  <tbody>\n",
       "    <tr>\n",
       "      <th>3</th>\n",
       "      <td>LotFrontage</td>\n",
       "      <td>17.739726</td>\n",
       "      <td>float64</td>\n",
       "    </tr>\n",
       "    <tr>\n",
       "      <th>56</th>\n",
       "      <td>GarageType</td>\n",
       "      <td>5.547945</td>\n",
       "      <td>object</td>\n",
       "    </tr>\n",
       "    <tr>\n",
       "      <th>62</th>\n",
       "      <td>GarageCond</td>\n",
       "      <td>5.547945</td>\n",
       "      <td>object</td>\n",
       "    </tr>\n",
       "    <tr>\n",
       "      <th>57</th>\n",
       "      <td>GarageYrBlt</td>\n",
       "      <td>5.547945</td>\n",
       "      <td>float64</td>\n",
       "    </tr>\n",
       "    <tr>\n",
       "      <th>58</th>\n",
       "      <td>GarageFinish</td>\n",
       "      <td>5.547945</td>\n",
       "      <td>object</td>\n",
       "    </tr>\n",
       "    <tr>\n",
       "      <th>61</th>\n",
       "      <td>GarageQual</td>\n",
       "      <td>5.547945</td>\n",
       "      <td>object</td>\n",
       "    </tr>\n",
       "    <tr>\n",
       "      <th>34</th>\n",
       "      <td>BsmtFinType2</td>\n",
       "      <td>2.602740</td>\n",
       "      <td>object</td>\n",
       "    </tr>\n",
       "    <tr>\n",
       "      <th>31</th>\n",
       "      <td>BsmtExposure</td>\n",
       "      <td>2.602740</td>\n",
       "      <td>object</td>\n",
       "    </tr>\n",
       "    <tr>\n",
       "      <th>32</th>\n",
       "      <td>BsmtFinType1</td>\n",
       "      <td>2.534247</td>\n",
       "      <td>object</td>\n",
       "    </tr>\n",
       "    <tr>\n",
       "      <th>30</th>\n",
       "      <td>BsmtCond</td>\n",
       "      <td>2.534247</td>\n",
       "      <td>object</td>\n",
       "    </tr>\n",
       "    <tr>\n",
       "      <th>29</th>\n",
       "      <td>BsmtQual</td>\n",
       "      <td>2.534247</td>\n",
       "      <td>object</td>\n",
       "    </tr>\n",
       "    <tr>\n",
       "      <th>25</th>\n",
       "      <td>MasVnrArea</td>\n",
       "      <td>0.547945</td>\n",
       "      <td>float64</td>\n",
       "    </tr>\n",
       "    <tr>\n",
       "      <th>24</th>\n",
       "      <td>MasVnrType</td>\n",
       "      <td>0.547945</td>\n",
       "      <td>object</td>\n",
       "    </tr>\n",
       "    <tr>\n",
       "      <th>41</th>\n",
       "      <td>Electrical</td>\n",
       "      <td>0.068493</td>\n",
       "      <td>object</td>\n",
       "    </tr>\n",
       "    <tr>\n",
       "      <th>63</th>\n",
       "      <td>PavedDrive</td>\n",
       "      <td>0.000000</td>\n",
       "      <td>object</td>\n",
       "    </tr>\n",
       "    <tr>\n",
       "      <th>64</th>\n",
       "      <td>WoodDeckSF</td>\n",
       "      <td>0.000000</td>\n",
       "      <td>int64</td>\n",
       "    </tr>\n",
       "    <tr>\n",
       "      <th>44</th>\n",
       "      <td>LowQualFinSF</td>\n",
       "      <td>0.000000</td>\n",
       "      <td>int64</td>\n",
       "    </tr>\n",
       "    <tr>\n",
       "      <th>45</th>\n",
       "      <td>GrLivArea</td>\n",
       "      <td>0.000000</td>\n",
       "      <td>int64</td>\n",
       "    </tr>\n",
       "    <tr>\n",
       "      <th>46</th>\n",
       "      <td>BsmtFullBath</td>\n",
       "      <td>0.000000</td>\n",
       "      <td>int64</td>\n",
       "    </tr>\n",
       "    <tr>\n",
       "      <th>47</th>\n",
       "      <td>BsmtHalfBath</td>\n",
       "      <td>0.000000</td>\n",
       "      <td>int64</td>\n",
       "    </tr>\n",
       "  </tbody>\n",
       "</table>\n",
       "</div>"
      ],
      "text/plain": [
       "     Column Name  Null Percent Data Type\n",
       "3    LotFrontage     17.739726   float64\n",
       "56    GarageType      5.547945    object\n",
       "62    GarageCond      5.547945    object\n",
       "57   GarageYrBlt      5.547945   float64\n",
       "58  GarageFinish      5.547945    object\n",
       "61    GarageQual      5.547945    object\n",
       "34  BsmtFinType2      2.602740    object\n",
       "31  BsmtExposure      2.602740    object\n",
       "32  BsmtFinType1      2.534247    object\n",
       "30      BsmtCond      2.534247    object\n",
       "29      BsmtQual      2.534247    object\n",
       "25    MasVnrArea      0.547945   float64\n",
       "24    MasVnrType      0.547945    object\n",
       "41    Electrical      0.068493    object\n",
       "63    PavedDrive      0.000000    object\n",
       "64    WoodDeckSF      0.000000     int64\n",
       "44  LowQualFinSF      0.000000     int64\n",
       "45     GrLivArea      0.000000     int64\n",
       "46  BsmtFullBath      0.000000     int64\n",
       "47  BsmtHalfBath      0.000000     int64"
      ]
     },
     "execution_count": 14,
     "metadata": {},
     "output_type": "execute_result"
    }
   ],
   "source": [
    "np_df.sort_values(by = 'Null Percent',  ascending=False).head(20)"
   ]
  },
  {
   "cell_type": "markdown",
   "metadata": {},
   "source": [
    "#### Observation\n",
    "With the decision of handling LotFrontage na with mean, and the other null percentages are relatively small, we could process fillna for these columns in batches\n",
    "\n",
    "#### Action Plan\n",
    "We will handle columns with null values in batches"
   ]
  },
  {
   "cell_type": "code",
   "execution_count": 15,
   "metadata": {},
   "outputs": [],
   "source": [
    "from sklearn.impute import SimpleImputer\n",
    "\n",
    "def clear_na (df):\n",
    "    \n",
    "    #let split the data for more targeted handling\n",
    "    txt_cols = [cname for cname in df.columns if df[cname].dtype == \"object\"]\n",
    "\n",
    "    # Select numerical columns\n",
    "    num_cols = [cname for cname in df.columns if df[cname].dtype in ['int64', 'float64']]\n",
    "\n",
    "    \n",
    "    txt_imputer = sklearn.impute.SimpleImputer(strategy='most_frequent')\n",
    "    num_imputer = sklearn.impute.SimpleImputer(strategy='mean')\n",
    "    \n",
    "    txt_nonull = pd.DataFrame(txt_imputer.fit_transform(df[txt_cols]))\n",
    "    txt_nonull.columns = txt_cols\n",
    "    num_nonull = pd.DataFrame(num_imputer.fit_transform(df[num_cols]))\n",
    "    num_nonull.columns = num_cols\n",
    "    \n",
    "    clean_df = txt_nonull.join(num_nonull)\n",
    "    \n",
    "    return clean_df\n",
    "    \n",
    "    "
   ]
  },
  {
   "cell_type": "code",
   "execution_count": 16,
   "metadata": {},
   "outputs": [],
   "source": [
    "train_clean = clear_na(train_data_dnull)"
   ]
  },
  {
   "cell_type": "code",
   "execution_count": 17,
   "metadata": {},
   "outputs": [
    {
     "name": "stdout",
     "output_type": "stream",
     "text": [
      "<class 'pandas.core.frame.DataFrame'>\n",
      "RangeIndex: 1460 entries, 0 to 1459\n",
      "Data columns (total 76 columns):\n",
      " #   Column         Non-Null Count  Dtype  \n",
      "---  ------         --------------  -----  \n",
      " 0   MSZoning       1460 non-null   object \n",
      " 1   Street         1460 non-null   object \n",
      " 2   LotShape       1460 non-null   object \n",
      " 3   LandContour    1460 non-null   object \n",
      " 4   Utilities      1460 non-null   object \n",
      " 5   LotConfig      1460 non-null   object \n",
      " 6   LandSlope      1460 non-null   object \n",
      " 7   Neighborhood   1460 non-null   object \n",
      " 8   Condition1     1460 non-null   object \n",
      " 9   Condition2     1460 non-null   object \n",
      " 10  BldgType       1460 non-null   object \n",
      " 11  HouseStyle     1460 non-null   object \n",
      " 12  RoofStyle      1460 non-null   object \n",
      " 13  RoofMatl       1460 non-null   object \n",
      " 14  Exterior1st    1460 non-null   object \n",
      " 15  Exterior2nd    1460 non-null   object \n",
      " 16  MasVnrType     1460 non-null   object \n",
      " 17  ExterQual      1460 non-null   object \n",
      " 18  ExterCond      1460 non-null   object \n",
      " 19  Foundation     1460 non-null   object \n",
      " 20  BsmtQual       1460 non-null   object \n",
      " 21  BsmtCond       1460 non-null   object \n",
      " 22  BsmtExposure   1460 non-null   object \n",
      " 23  BsmtFinType1   1460 non-null   object \n",
      " 24  BsmtFinType2   1460 non-null   object \n",
      " 25  Heating        1460 non-null   object \n",
      " 26  HeatingQC      1460 non-null   object \n",
      " 27  CentralAir     1460 non-null   object \n",
      " 28  Electrical     1460 non-null   object \n",
      " 29  KitchenQual    1460 non-null   object \n",
      " 30  Functional     1460 non-null   object \n",
      " 31  GarageType     1460 non-null   object \n",
      " 32  GarageFinish   1460 non-null   object \n",
      " 33  GarageQual     1460 non-null   object \n",
      " 34  GarageCond     1460 non-null   object \n",
      " 35  PavedDrive     1460 non-null   object \n",
      " 36  SaleType       1460 non-null   object \n",
      " 37  SaleCondition  1460 non-null   object \n",
      " 38  Id             1460 non-null   float64\n",
      " 39  MSSubClass     1460 non-null   float64\n",
      " 40  LotFrontage    1460 non-null   float64\n",
      " 41  LotArea        1460 non-null   float64\n",
      " 42  OverallQual    1460 non-null   float64\n",
      " 43  OverallCond    1460 non-null   float64\n",
      " 44  YearBuilt      1460 non-null   float64\n",
      " 45  YearRemodAdd   1460 non-null   float64\n",
      " 46  MasVnrArea     1460 non-null   float64\n",
      " 47  BsmtFinSF1     1460 non-null   float64\n",
      " 48  BsmtFinSF2     1460 non-null   float64\n",
      " 49  BsmtUnfSF      1460 non-null   float64\n",
      " 50  TotalBsmtSF    1460 non-null   float64\n",
      " 51  1stFlrSF       1460 non-null   float64\n",
      " 52  2ndFlrSF       1460 non-null   float64\n",
      " 53  LowQualFinSF   1460 non-null   float64\n",
      " 54  GrLivArea      1460 non-null   float64\n",
      " 55  BsmtFullBath   1460 non-null   float64\n",
      " 56  BsmtHalfBath   1460 non-null   float64\n",
      " 57  FullBath       1460 non-null   float64\n",
      " 58  HalfBath       1460 non-null   float64\n",
      " 59  BedroomAbvGr   1460 non-null   float64\n",
      " 60  KitchenAbvGr   1460 non-null   float64\n",
      " 61  TotRmsAbvGrd   1460 non-null   float64\n",
      " 62  Fireplaces     1460 non-null   float64\n",
      " 63  GarageYrBlt    1460 non-null   float64\n",
      " 64  GarageCars     1460 non-null   float64\n",
      " 65  GarageArea     1460 non-null   float64\n",
      " 66  WoodDeckSF     1460 non-null   float64\n",
      " 67  OpenPorchSF    1460 non-null   float64\n",
      " 68  EnclosedPorch  1460 non-null   float64\n",
      " 69  3SsnPorch      1460 non-null   float64\n",
      " 70  ScreenPorch    1460 non-null   float64\n",
      " 71  PoolArea       1460 non-null   float64\n",
      " 72  MiscVal        1460 non-null   float64\n",
      " 73  MoSold         1460 non-null   float64\n",
      " 74  YrSold         1460 non-null   float64\n",
      " 75  SalePrice      1460 non-null   float64\n",
      "dtypes: float64(38), object(38)\n",
      "memory usage: 867.0+ KB\n"
     ]
    }
   ],
   "source": [
    "train_clean.info()"
   ]
  },
  {
   "cell_type": "code",
   "execution_count": 18,
   "metadata": {},
   "outputs": [],
   "source": [
    "#okay, now we have a clean dataset, let's take a look at the data more closely to understand what types of data we are dealing with\n",
    "#to do this, we will break the data to txt and num, to allow easier handling\n",
    "\n",
    "def txt_num_split(df):\n",
    "\n",
    "    #let split the data for more targeted handling\n",
    "    txt_cols = [cname for cname in df.columns if df[cname].dtype == \"object\"]\n",
    "    # Select numerical columns\n",
    "    num_cols = [cname for cname in df.columns if df[cname].dtype in ['int64', 'float64']]\n",
    "    \n",
    "    txt_df = df[txt_cols]\n",
    "    num_df = df[num_cols]\n",
    "    \n",
    "    return txt_df, num_df\n"
   ]
  },
  {
   "cell_type": "code",
   "execution_count": 19,
   "metadata": {},
   "outputs": [],
   "source": [
    "train_clean_txt, train_clean_num = txt_num_split(train_clean)"
   ]
  },
  {
   "cell_type": "code",
   "execution_count": 20,
   "metadata": {},
   "outputs": [
    {
     "data": {
      "text/html": [
       "<div>\n",
       "<style scoped>\n",
       "    .dataframe tbody tr th:only-of-type {\n",
       "        vertical-align: middle;\n",
       "    }\n",
       "\n",
       "    .dataframe tbody tr th {\n",
       "        vertical-align: top;\n",
       "    }\n",
       "\n",
       "    .dataframe thead th {\n",
       "        text-align: right;\n",
       "    }\n",
       "</style>\n",
       "<table border=\"1\" class=\"dataframe\">\n",
       "  <thead>\n",
       "    <tr style=\"text-align: right;\">\n",
       "      <th></th>\n",
       "      <th>MSZoning</th>\n",
       "      <th>Street</th>\n",
       "      <th>LotShape</th>\n",
       "      <th>LandContour</th>\n",
       "      <th>Utilities</th>\n",
       "      <th>LotConfig</th>\n",
       "      <th>LandSlope</th>\n",
       "      <th>Neighborhood</th>\n",
       "      <th>Condition1</th>\n",
       "      <th>Condition2</th>\n",
       "      <th>...</th>\n",
       "      <th>Electrical</th>\n",
       "      <th>KitchenQual</th>\n",
       "      <th>Functional</th>\n",
       "      <th>GarageType</th>\n",
       "      <th>GarageFinish</th>\n",
       "      <th>GarageQual</th>\n",
       "      <th>GarageCond</th>\n",
       "      <th>PavedDrive</th>\n",
       "      <th>SaleType</th>\n",
       "      <th>SaleCondition</th>\n",
       "    </tr>\n",
       "  </thead>\n",
       "  <tbody>\n",
       "    <tr>\n",
       "      <th>count</th>\n",
       "      <td>1460</td>\n",
       "      <td>1460</td>\n",
       "      <td>1460</td>\n",
       "      <td>1460</td>\n",
       "      <td>1460</td>\n",
       "      <td>1460</td>\n",
       "      <td>1460</td>\n",
       "      <td>1460</td>\n",
       "      <td>1460</td>\n",
       "      <td>1460</td>\n",
       "      <td>...</td>\n",
       "      <td>1460</td>\n",
       "      <td>1460</td>\n",
       "      <td>1460</td>\n",
       "      <td>1460</td>\n",
       "      <td>1460</td>\n",
       "      <td>1460</td>\n",
       "      <td>1460</td>\n",
       "      <td>1460</td>\n",
       "      <td>1460</td>\n",
       "      <td>1460</td>\n",
       "    </tr>\n",
       "    <tr>\n",
       "      <th>unique</th>\n",
       "      <td>5</td>\n",
       "      <td>2</td>\n",
       "      <td>4</td>\n",
       "      <td>4</td>\n",
       "      <td>2</td>\n",
       "      <td>5</td>\n",
       "      <td>3</td>\n",
       "      <td>25</td>\n",
       "      <td>9</td>\n",
       "      <td>8</td>\n",
       "      <td>...</td>\n",
       "      <td>5</td>\n",
       "      <td>4</td>\n",
       "      <td>7</td>\n",
       "      <td>6</td>\n",
       "      <td>3</td>\n",
       "      <td>5</td>\n",
       "      <td>5</td>\n",
       "      <td>3</td>\n",
       "      <td>9</td>\n",
       "      <td>6</td>\n",
       "    </tr>\n",
       "    <tr>\n",
       "      <th>top</th>\n",
       "      <td>RL</td>\n",
       "      <td>Pave</td>\n",
       "      <td>Reg</td>\n",
       "      <td>Lvl</td>\n",
       "      <td>AllPub</td>\n",
       "      <td>Inside</td>\n",
       "      <td>Gtl</td>\n",
       "      <td>NAmes</td>\n",
       "      <td>Norm</td>\n",
       "      <td>Norm</td>\n",
       "      <td>...</td>\n",
       "      <td>SBrkr</td>\n",
       "      <td>TA</td>\n",
       "      <td>Typ</td>\n",
       "      <td>Attchd</td>\n",
       "      <td>Unf</td>\n",
       "      <td>TA</td>\n",
       "      <td>TA</td>\n",
       "      <td>Y</td>\n",
       "      <td>WD</td>\n",
       "      <td>Normal</td>\n",
       "    </tr>\n",
       "    <tr>\n",
       "      <th>freq</th>\n",
       "      <td>1151</td>\n",
       "      <td>1454</td>\n",
       "      <td>925</td>\n",
       "      <td>1311</td>\n",
       "      <td>1459</td>\n",
       "      <td>1052</td>\n",
       "      <td>1382</td>\n",
       "      <td>225</td>\n",
       "      <td>1260</td>\n",
       "      <td>1445</td>\n",
       "      <td>...</td>\n",
       "      <td>1335</td>\n",
       "      <td>735</td>\n",
       "      <td>1360</td>\n",
       "      <td>951</td>\n",
       "      <td>686</td>\n",
       "      <td>1392</td>\n",
       "      <td>1407</td>\n",
       "      <td>1340</td>\n",
       "      <td>1267</td>\n",
       "      <td>1198</td>\n",
       "    </tr>\n",
       "  </tbody>\n",
       "</table>\n",
       "<p>4 rows × 38 columns</p>\n",
       "</div>"
      ],
      "text/plain": [
       "       MSZoning Street LotShape LandContour Utilities LotConfig LandSlope  \\\n",
       "count      1460   1460     1460        1460      1460      1460      1460   \n",
       "unique        5      2        4           4         2         5         3   \n",
       "top          RL   Pave      Reg         Lvl    AllPub    Inside       Gtl   \n",
       "freq       1151   1454      925        1311      1459      1052      1382   \n",
       "\n",
       "       Neighborhood Condition1 Condition2  ... Electrical KitchenQual  \\\n",
       "count          1460       1460       1460  ...       1460        1460   \n",
       "unique           25          9          8  ...          5           4   \n",
       "top           NAmes       Norm       Norm  ...      SBrkr          TA   \n",
       "freq            225       1260       1445  ...       1335         735   \n",
       "\n",
       "       Functional GarageType GarageFinish GarageQual GarageCond PavedDrive  \\\n",
       "count        1460       1460         1460       1460       1460       1460   \n",
       "unique          7          6            3          5          5          3   \n",
       "top           Typ     Attchd          Unf         TA         TA          Y   \n",
       "freq         1360        951          686       1392       1407       1340   \n",
       "\n",
       "       SaleType SaleCondition  \n",
       "count      1460          1460  \n",
       "unique        9             6  \n",
       "top          WD        Normal  \n",
       "freq       1267          1198  \n",
       "\n",
       "[4 rows x 38 columns]"
      ]
     },
     "execution_count": 20,
     "metadata": {},
     "output_type": "execute_result"
    }
   ],
   "source": [
    "train_clean_txt.describe()"
   ]
  },
  {
   "cell_type": "code",
   "execution_count": 21,
   "metadata": {},
   "outputs": [],
   "source": [
    "uv_df = pd.DataFrame(train_clean_txt.describe().loc['unique'])"
   ]
  },
  {
   "cell_type": "code",
   "execution_count": 22,
   "metadata": {},
   "outputs": [
    {
     "data": {
      "text/html": [
       "<div>\n",
       "<style scoped>\n",
       "    .dataframe tbody tr th:only-of-type {\n",
       "        vertical-align: middle;\n",
       "    }\n",
       "\n",
       "    .dataframe tbody tr th {\n",
       "        vertical-align: top;\n",
       "    }\n",
       "\n",
       "    .dataframe thead th {\n",
       "        text-align: right;\n",
       "    }\n",
       "</style>\n",
       "<table border=\"1\" class=\"dataframe\">\n",
       "  <thead>\n",
       "    <tr style=\"text-align: right;\">\n",
       "      <th></th>\n",
       "      <th>unique</th>\n",
       "    </tr>\n",
       "  </thead>\n",
       "  <tbody>\n",
       "    <tr>\n",
       "      <th>Neighborhood</th>\n",
       "      <td>25</td>\n",
       "    </tr>\n",
       "    <tr>\n",
       "      <th>Exterior2nd</th>\n",
       "      <td>16</td>\n",
       "    </tr>\n",
       "    <tr>\n",
       "      <th>Exterior1st</th>\n",
       "      <td>15</td>\n",
       "    </tr>\n",
       "    <tr>\n",
       "      <th>SaleType</th>\n",
       "      <td>9</td>\n",
       "    </tr>\n",
       "    <tr>\n",
       "      <th>Condition1</th>\n",
       "      <td>9</td>\n",
       "    </tr>\n",
       "    <tr>\n",
       "      <th>Condition2</th>\n",
       "      <td>8</td>\n",
       "    </tr>\n",
       "    <tr>\n",
       "      <th>HouseStyle</th>\n",
       "      <td>8</td>\n",
       "    </tr>\n",
       "    <tr>\n",
       "      <th>RoofMatl</th>\n",
       "      <td>8</td>\n",
       "    </tr>\n",
       "    <tr>\n",
       "      <th>Functional</th>\n",
       "      <td>7</td>\n",
       "    </tr>\n",
       "    <tr>\n",
       "      <th>Foundation</th>\n",
       "      <td>6</td>\n",
       "    </tr>\n",
       "    <tr>\n",
       "      <th>GarageType</th>\n",
       "      <td>6</td>\n",
       "    </tr>\n",
       "    <tr>\n",
       "      <th>Heating</th>\n",
       "      <td>6</td>\n",
       "    </tr>\n",
       "    <tr>\n",
       "      <th>BsmtFinType2</th>\n",
       "      <td>6</td>\n",
       "    </tr>\n",
       "    <tr>\n",
       "      <th>BsmtFinType1</th>\n",
       "      <td>6</td>\n",
       "    </tr>\n",
       "    <tr>\n",
       "      <th>SaleCondition</th>\n",
       "      <td>6</td>\n",
       "    </tr>\n",
       "    <tr>\n",
       "      <th>RoofStyle</th>\n",
       "      <td>6</td>\n",
       "    </tr>\n",
       "    <tr>\n",
       "      <th>BldgType</th>\n",
       "      <td>5</td>\n",
       "    </tr>\n",
       "    <tr>\n",
       "      <th>GarageCond</th>\n",
       "      <td>5</td>\n",
       "    </tr>\n",
       "    <tr>\n",
       "      <th>GarageQual</th>\n",
       "      <td>5</td>\n",
       "    </tr>\n",
       "    <tr>\n",
       "      <th>Electrical</th>\n",
       "      <td>5</td>\n",
       "    </tr>\n",
       "    <tr>\n",
       "      <th>LotConfig</th>\n",
       "      <td>5</td>\n",
       "    </tr>\n",
       "    <tr>\n",
       "      <th>HeatingQC</th>\n",
       "      <td>5</td>\n",
       "    </tr>\n",
       "    <tr>\n",
       "      <th>ExterCond</th>\n",
       "      <td>5</td>\n",
       "    </tr>\n",
       "    <tr>\n",
       "      <th>MSZoning</th>\n",
       "      <td>5</td>\n",
       "    </tr>\n",
       "    <tr>\n",
       "      <th>BsmtExposure</th>\n",
       "      <td>4</td>\n",
       "    </tr>\n",
       "    <tr>\n",
       "      <th>BsmtCond</th>\n",
       "      <td>4</td>\n",
       "    </tr>\n",
       "    <tr>\n",
       "      <th>BsmtQual</th>\n",
       "      <td>4</td>\n",
       "    </tr>\n",
       "    <tr>\n",
       "      <th>MasVnrType</th>\n",
       "      <td>4</td>\n",
       "    </tr>\n",
       "    <tr>\n",
       "      <th>KitchenQual</th>\n",
       "      <td>4</td>\n",
       "    </tr>\n",
       "    <tr>\n",
       "      <th>LandContour</th>\n",
       "      <td>4</td>\n",
       "    </tr>\n",
       "    <tr>\n",
       "      <th>ExterQual</th>\n",
       "      <td>4</td>\n",
       "    </tr>\n",
       "    <tr>\n",
       "      <th>LotShape</th>\n",
       "      <td>4</td>\n",
       "    </tr>\n",
       "    <tr>\n",
       "      <th>LandSlope</th>\n",
       "      <td>3</td>\n",
       "    </tr>\n",
       "    <tr>\n",
       "      <th>GarageFinish</th>\n",
       "      <td>3</td>\n",
       "    </tr>\n",
       "    <tr>\n",
       "      <th>PavedDrive</th>\n",
       "      <td>3</td>\n",
       "    </tr>\n",
       "    <tr>\n",
       "      <th>CentralAir</th>\n",
       "      <td>2</td>\n",
       "    </tr>\n",
       "    <tr>\n",
       "      <th>Street</th>\n",
       "      <td>2</td>\n",
       "    </tr>\n",
       "    <tr>\n",
       "      <th>Utilities</th>\n",
       "      <td>2</td>\n",
       "    </tr>\n",
       "  </tbody>\n",
       "</table>\n",
       "</div>"
      ],
      "text/plain": [
       "              unique\n",
       "Neighborhood      25\n",
       "Exterior2nd       16\n",
       "Exterior1st       15\n",
       "SaleType           9\n",
       "Condition1         9\n",
       "Condition2         8\n",
       "HouseStyle         8\n",
       "RoofMatl           8\n",
       "Functional         7\n",
       "Foundation         6\n",
       "GarageType         6\n",
       "Heating            6\n",
       "BsmtFinType2       6\n",
       "BsmtFinType1       6\n",
       "SaleCondition      6\n",
       "RoofStyle          6\n",
       "BldgType           5\n",
       "GarageCond         5\n",
       "GarageQual         5\n",
       "Electrical         5\n",
       "LotConfig          5\n",
       "HeatingQC          5\n",
       "ExterCond          5\n",
       "MSZoning           5\n",
       "BsmtExposure       4\n",
       "BsmtCond           4\n",
       "BsmtQual           4\n",
       "MasVnrType         4\n",
       "KitchenQual        4\n",
       "LandContour        4\n",
       "ExterQual          4\n",
       "LotShape           4\n",
       "LandSlope          3\n",
       "GarageFinish       3\n",
       "PavedDrive         3\n",
       "CentralAir         2\n",
       "Street             2\n",
       "Utilities          2"
      ]
     },
     "execution_count": 22,
     "metadata": {},
     "output_type": "execute_result"
    }
   ],
   "source": [
    "uv_df.sort_values(by = 'unique', ascending=False)"
   ]
  },
  {
   "cell_type": "markdown",
   "metadata": {},
   "source": [
    "#### Observation\n",
    "Neighborhood, Exterior2nd, Exterior1st have more than 10 unique values, cant use onehot\n",
    "\n",
    "#### Action Plan\n",
    "let's see if we could further group the valuse for the above mentioned"
   ]
  },
  {
   "cell_type": "code",
   "execution_count": 23,
   "metadata": {
    "scrolled": true
   },
   "outputs": [
    {
     "data": {
      "text/plain": [
       "NAmes      225\n",
       "CollgCr    150\n",
       "OldTown    113\n",
       "Edwards    100\n",
       "Somerst     86\n",
       "Gilbert     79\n",
       "NridgHt     77\n",
       "Sawyer      74\n",
       "NWAmes      73\n",
       "SawyerW     59\n",
       "BrkSide     58\n",
       "Crawfor     51\n",
       "Mitchel     49\n",
       "NoRidge     41\n",
       "Timber      38\n",
       "IDOTRR      37\n",
       "ClearCr     28\n",
       "SWISU       25\n",
       "StoneBr     25\n",
       "MeadowV     17\n",
       "Blmngtn     17\n",
       "BrDale      16\n",
       "Veenker     11\n",
       "NPkVill      9\n",
       "Blueste      2\n",
       "Name: Neighborhood, dtype: int64"
      ]
     },
     "execution_count": 23,
     "metadata": {},
     "output_type": "execute_result"
    }
   ],
   "source": [
    "train_clean_txt.Neighborhood.value_counts()"
   ]
  },
  {
   "cell_type": "code",
   "execution_count": 24,
   "metadata": {},
   "outputs": [
    {
     "data": {
      "text/plain": [
       "<matplotlib.axes._subplots.AxesSubplot at 0x2091ed85f10>"
      ]
     },
     "execution_count": 24,
     "metadata": {},
     "output_type": "execute_result"
    },
    {
     "data": {
      "image/png": "[encoded data removed]",
      "text/plain": [
       "<Figure size 432x288 with 1 Axes>"
      ]
     },
     "metadata": {
      "needs_background": "light"
     },
     "output_type": "display_data"
    }
   ],
   "source": [
    "#let's look at how it relates to our target\n",
    "train_clean.plot.scatter(x='SalePrice', y='Neighborhood')"
   ]
  },
  {
   "cell_type": "code",
   "execution_count": null,
   "metadata": {},
   "outputs": [],
   "source": []
  },
  {
   "cell_type": "markdown",
   "metadata": {},
   "source": [
    "#### Observation\n",
    "there is no specific trends in this data, and after reading the description, we think that there might not be a good way to furter aggregate the data\n",
    "\n",
    "#### Action Plan\n",
    "use some sort of lable encoder, or combine with another cat data"
   ]
  },
  {
   "cell_type": "code",
   "execution_count": 26,
   "metadata": {},
   "outputs": [],
   "source": [
    "import category_encoders as ce\n",
    "\n",
    "# Create the encoder\n",
    "target_enc = ce.CatBoostEncoder(cols=['Neighborhood'])\n",
    "target_enc_fitted = target_enc.fit(train_clean_txt['Neighborhood'], train_clean['SalePrice'])\n",
    "nbh_trans = target_enc_fitted.transform(train_clean_txt['Neighborhood'])\n"
   ]
  },
  {
   "cell_type": "code",
   "execution_count": 27,
   "metadata": {},
   "outputs": [
    {
     "data": {
      "text/html": [
       "<div>\n",
       "<style scoped>\n",
       "    .dataframe tbody tr th:only-of-type {\n",
       "        vertical-align: middle;\n",
       "    }\n",
       "\n",
       "    .dataframe tbody tr th {\n",
       "        vertical-align: top;\n",
       "    }\n",
       "\n",
       "    .dataframe thead th {\n",
       "        text-align: right;\n",
       "    }\n",
       "</style>\n",
       "<table border=\"1\" class=\"dataframe\">\n",
       "  <thead>\n",
       "    <tr style=\"text-align: right;\">\n",
       "      <th></th>\n",
       "      <th>Neighborhood</th>\n",
       "    </tr>\n",
       "  </thead>\n",
       "  <tbody>\n",
       "    <tr>\n",
       "      <th>0</th>\n",
       "      <td>197852.895337</td>\n",
       "    </tr>\n",
       "    <tr>\n",
       "      <th>1</th>\n",
       "      <td>233951.766324</td>\n",
       "    </tr>\n",
       "    <tr>\n",
       "      <th>2</th>\n",
       "      <td>197852.895337</td>\n",
       "    </tr>\n",
       "    <tr>\n",
       "      <th>3</th>\n",
       "      <td>210053.503767</td>\n",
       "    </tr>\n",
       "    <tr>\n",
       "      <th>4</th>\n",
       "      <td>331619.742759</td>\n",
       "    </tr>\n",
       "    <tr>\n",
       "      <th>...</th>\n",
       "      <td>...</td>\n",
       "    </tr>\n",
       "    <tr>\n",
       "      <th>1455</th>\n",
       "      <td>192705.339949</td>\n",
       "    </tr>\n",
       "    <tr>\n",
       "      <th>1456</th>\n",
       "      <td>188940.218863</td>\n",
       "    </tr>\n",
       "    <tr>\n",
       "      <th>1457</th>\n",
       "      <td>210053.503767</td>\n",
       "    </tr>\n",
       "    <tr>\n",
       "      <th>1458</th>\n",
       "      <td>146002.275203</td>\n",
       "    </tr>\n",
       "    <tr>\n",
       "      <th>1459</th>\n",
       "      <td>128741.496989</td>\n",
       "    </tr>\n",
       "  </tbody>\n",
       "</table>\n",
       "<p>1460 rows × 1 columns</p>\n",
       "</div>"
      ],
      "text/plain": [
       "       Neighborhood\n",
       "0     197852.895337\n",
       "1     233951.766324\n",
       "2     197852.895337\n",
       "3     210053.503767\n",
       "4     331619.742759\n",
       "...             ...\n",
       "1455  192705.339949\n",
       "1456  188940.218863\n",
       "1457  210053.503767\n",
       "1458  146002.275203\n",
       "1459  128741.496989\n",
       "\n",
       "[1460 rows x 1 columns]"
      ]
     },
     "execution_count": 27,
     "metadata": {},
     "output_type": "execute_result"
    }
   ],
   "source": [
    "nbh_trans"
   ]
  },
  {
   "cell_type": "code",
   "execution_count": 28,
   "metadata": {},
   "outputs": [
    {
     "data": {
      "text/plain": [
       "VinylSd    504\n",
       "MetalSd    214\n",
       "HdBoard    207\n",
       "Wd Sdng    197\n",
       "Plywood    142\n",
       "CmentBd     60\n",
       "Wd Shng     38\n",
       "Stucco      26\n",
       "BrkFace     25\n",
       "AsbShng     20\n",
       "ImStucc     10\n",
       "Brk Cmn      7\n",
       "Stone        5\n",
       "AsphShn      3\n",
       "Other        1\n",
       "CBlock       1\n",
       "Name: Exterior2nd, dtype: int64"
      ]
     },
     "execution_count": 28,
     "metadata": {},
     "output_type": "execute_result"
    }
   ],
   "source": [
    "train_clean.Exterior2nd.value_counts()"
   ]
  },
  {
   "cell_type": "code",
   "execution_count": 29,
   "metadata": {},
   "outputs": [
    {
     "data": {
      "text/plain": [
       "<matplotlib.axes._subplots.AxesSubplot at 0x2091fe51490>"
      ]
     },
     "execution_count": 29,
     "metadata": {},
     "output_type": "execute_result"
    },
    {
     "data": {
      "image/png": "[encoded data removed]",
      "text/plain": [
       "<Figure size 432x288 with 1 Axes>"
      ]
     },
     "metadata": {
      "needs_background": "light"
     },
     "output_type": "display_data"
    }
   ],
   "source": [
    "train_clean.plot.scatter(x='SalePrice', y='Exterior2nd')"
   ]
  },
  {
   "cell_type": "markdown",
   "metadata": {},
   "source": [
    "#### Observation\n",
    "CBlock, Other Stone, AsphShn, ImStucc, Brk Cmn are in similar ranges\n",
    "\n",
    "#### Action Plan\n",
    "let's combine them"
   ]
  },
  {
   "cell_type": "code",
   "execution_count": 30,
   "metadata": {},
   "outputs": [],
   "source": [
    "combine_ls = ['CBlock', 'Other', 'Stone', 'AsphShn', 'ImStucc', 'Brk Cmn']\n",
    "train_clean_txt.Exterior2nd = train_clean_txt.Exterior2nd.apply(lambda x: 'Other' if x in combine_ls else x)"
   ]
  },
  {
   "cell_type": "code",
   "execution_count": 31,
   "metadata": {},
   "outputs": [
    {
     "data": {
      "text/plain": [
       "VinylSd    504\n",
       "MetalSd    214\n",
       "HdBoard    207\n",
       "Wd Sdng    197\n",
       "Plywood    142\n",
       "CmentBd     60\n",
       "Wd Shng     38\n",
       "Other       27\n",
       "Stucco      26\n",
       "BrkFace     25\n",
       "AsbShng     20\n",
       "Name: Exterior2nd, dtype: int64"
      ]
     },
     "execution_count": 31,
     "metadata": {},
     "output_type": "execute_result"
    }
   ],
   "source": [
    "train_clean_txt.Exterior2nd.value_counts()"
   ]
  },
  {
   "cell_type": "code",
   "execution_count": 32,
   "metadata": {},
   "outputs": [
    {
     "data": {
      "text/plain": [
       "VinylSd    515\n",
       "HdBoard    222\n",
       "MetalSd    220\n",
       "Wd Sdng    206\n",
       "Plywood    108\n",
       "CemntBd     61\n",
       "BrkFace     50\n",
       "WdShing     26\n",
       "Stucco      25\n",
       "AsbShng     20\n",
       "BrkComm      2\n",
       "Stone        2\n",
       "ImStucc      1\n",
       "AsphShn      1\n",
       "CBlock       1\n",
       "Name: Exterior1st, dtype: int64"
      ]
     },
     "execution_count": 32,
     "metadata": {},
     "output_type": "execute_result"
    }
   ],
   "source": [
    "train_clean_txt.Exterior1st.value_counts()"
   ]
  },
  {
   "cell_type": "code",
   "execution_count": 33,
   "metadata": {},
   "outputs": [],
   "source": [
    "combine_ls_e1 = ['CBlock', 'Other', 'Stone', 'AsphShn', 'ImStucc', 'BrkComm']\n",
    "train_clean_txt.Exterior1st = train_clean_txt.Exterior1st.apply(lambda x: 'Other' if x in combine_ls_e1 else x)"
   ]
  },
  {
   "cell_type": "code",
   "execution_count": 34,
   "metadata": {},
   "outputs": [
    {
     "data": {
      "text/plain": [
       "VinylSd    515\n",
       "HdBoard    222\n",
       "MetalSd    220\n",
       "Wd Sdng    206\n",
       "Plywood    108\n",
       "CemntBd     61\n",
       "BrkFace     50\n",
       "WdShing     26\n",
       "Stucco      25\n",
       "AsbShng     20\n",
       "Other        7\n",
       "Name: Exterior1st, dtype: int64"
      ]
     },
     "execution_count": 34,
     "metadata": {},
     "output_type": "execute_result"
    }
   ],
   "source": [
    "train_clean_txt.Exterior1st.value_counts()"
   ]
  },
  {
   "cell_type": "markdown",
   "metadata": {},
   "source": [
    "# will use one hot for vc less than 10 and target for the others"
   ]
  },
  {
   "cell_type": "code",
   "execution_count": 35,
   "metadata": {},
   "outputs": [
    {
     "data": {
      "text/plain": [
       "array([[<matplotlib.axes._subplots.AxesSubplot object at 0x0000020920ED75E0>,\n",
       "        <matplotlib.axes._subplots.AxesSubplot object at 0x000002091F622FA0>,\n",
       "        <matplotlib.axes._subplots.AxesSubplot object at 0x000002091F630AC0>,\n",
       "        <matplotlib.axes._subplots.AxesSubplot object at 0x0000020920EF8E80>,\n",
       "        <matplotlib.axes._subplots.AxesSubplot object at 0x0000020920F30310>,\n",
       "        <matplotlib.axes._subplots.AxesSubplot object at 0x0000020920F5D6D0>],\n",
       "       [<matplotlib.axes._subplots.AxesSubplot object at 0x0000020920F5D7C0>,\n",
       "        <matplotlib.axes._subplots.AxesSubplot object at 0x0000020920F89C70>,\n",
       "        <matplotlib.axes._subplots.AxesSubplot object at 0x0000020920FEE4C0>,\n",
       "        <matplotlib.axes._subplots.AxesSubplot object at 0x000002092101A910>,\n",
       "        <matplotlib.axes._subplots.AxesSubplot object at 0x0000020921048D60>,\n",
       "        <matplotlib.axes._subplots.AxesSubplot object at 0x00000209210811F0>],\n",
       "       [<matplotlib.axes._subplots.AxesSubplot object at 0x00000209210AF640>,\n",
       "        <matplotlib.axes._subplots.AxesSubplot object at 0x00000209210DAA90>,\n",
       "        <matplotlib.axes._subplots.AxesSubplot object at 0x0000020921108EE0>,\n",
       "        <matplotlib.axes._subplots.AxesSubplot object at 0x0000020921142370>,\n",
       "        <matplotlib.axes._subplots.AxesSubplot object at 0x000002092116E7C0>,\n",
       "        <matplotlib.axes._subplots.AxesSubplot object at 0x0000020921199C70>],\n",
       "       [<matplotlib.axes._subplots.AxesSubplot object at 0x00000209211D4130>,\n",
       "        <matplotlib.axes._subplots.AxesSubplot object at 0x0000020921200580>,\n",
       "        <matplotlib.axes._subplots.AxesSubplot object at 0x000002092122C9D0>,\n",
       "        <matplotlib.axes._subplots.AxesSubplot object at 0x000002092125AE20>,\n",
       "        <matplotlib.axes._subplots.AxesSubplot object at 0x00000209212942B0>,\n",
       "        <matplotlib.axes._subplots.AxesSubplot object at 0x00000209212C0700>],\n",
       "       [<matplotlib.axes._subplots.AxesSubplot object at 0x00000209212EFB50>,\n",
       "        <matplotlib.axes._subplots.AxesSubplot object at 0x000002092131DFA0>,\n",
       "        <matplotlib.axes._subplots.AxesSubplot object at 0x0000020921353430>,\n",
       "        <matplotlib.axes._subplots.AxesSubplot object at 0x0000020921380880>,\n",
       "        <matplotlib.axes._subplots.AxesSubplot object at 0x00000209213ACCD0>,\n",
       "        <matplotlib.axes._subplots.AxesSubplot object at 0x00000209213E8160>],\n",
       "       [<matplotlib.axes._subplots.AxesSubplot object at 0x00000209214145B0>,\n",
       "        <matplotlib.axes._subplots.AxesSubplot object at 0x00000209214434C0>,\n",
       "        <matplotlib.axes._subplots.AxesSubplot object at 0x000002092146EC40>,\n",
       "        <matplotlib.axes._subplots.AxesSubplot object at 0x00000209214A3400>,\n",
       "        <matplotlib.axes._subplots.AxesSubplot object at 0x00000209214CCB80>,\n",
       "        <matplotlib.axes._subplots.AxesSubplot object at 0x0000020921502340>],\n",
       "       [<matplotlib.axes._subplots.AxesSubplot object at 0x000002092152BAC0>,\n",
       "        <matplotlib.axes._subplots.AxesSubplot object at 0x0000020921562280>,\n",
       "        <matplotlib.axes._subplots.AxesSubplot object at 0x000002092158B940>,\n",
       "        <matplotlib.axes._subplots.AxesSubplot object at 0x00000209215B62B0>,\n",
       "        <matplotlib.axes._subplots.AxesSubplot object at 0x00000209215DEA30>,\n",
       "        <matplotlib.axes._subplots.AxesSubplot object at 0x00000209216141F0>]],\n",
       "      dtype=object)"
      ]
     },
     "execution_count": 35,
     "metadata": {},
     "output_type": "execute_result"
    },
    {
     "data": {
      "image/png": "[encoded data removed]",
      "text/plain": [
       "<Figure size 1440x1440 with 42 Axes>"
      ]
     },
     "metadata": {
      "needs_background": "light"
     },
     "output_type": "display_data"
    }
   ],
   "source": [
    "train_clean_num.hist(figsize = (20,20))"
   ]
  },
  {
   "cell_type": "code",
   "execution_count": 90,
   "metadata": {},
   "outputs": [],
   "source": [
    "norm_ls = ['1stFlrSF', '2ndFlrSF', 'BsmtFinSF1', 'BsmtFinSF2', 'BsmtUnfSF', 'MSSubClass', 'OpenPorchSF', 'WoodDeckSF', 'SalePrice']"
   ]
  },
  {
   "cell_type": "code",
   "execution_count": 109,
   "metadata": {},
   "outputs": [],
   "source": [
    "# for Box-Cox Transformation\n",
    "from scipy import stats\n",
    "\n",
    "def norm_trans (col_ls, target_df):\n",
    "    df = target_df.copy()\n",
    "    p_pram = 0\n",
    "    for col in df.columns:\n",
    "\n",
    "        if col in col_ls:\n",
    "            norm_data = stats.boxcox(df[col].array+0.001)\n",
    "            norm_series = pd.Series(norm_data[0])\n",
    "            norm_series.name = col\n",
    "            df[col] = norm_series\n",
    "            if col == 'SalePrice':\n",
    "                p_pram = norm_data[1]\n",
    "    return df, p_pram"
   ]
  },
  {
   "cell_type": "code",
   "execution_count": 110,
   "metadata": {},
   "outputs": [],
   "source": [
    "train_clean_num_norm,_ = norm_trans(norm_ls, train_clean_num)"
   ]
  },
  {
   "cell_type": "code",
   "execution_count": 111,
   "metadata": {},
   "outputs": [
    {
     "data": {
      "text/plain": [
       "array([[<matplotlib.axes._subplots.AxesSubplot object at 0x00000209292B9580>,\n",
       "        <matplotlib.axes._subplots.AxesSubplot object at 0x0000020929B705E0>,\n",
       "        <matplotlib.axes._subplots.AxesSubplot object at 0x000002092A0D2C40>],\n",
       "       [<matplotlib.axes._subplots.AxesSubplot object at 0x000002092A107400>,\n",
       "        <matplotlib.axes._subplots.AxesSubplot object at 0x000002092A12FB80>,\n",
       "        <matplotlib.axes._subplots.AxesSubplot object at 0x000002092A163280>],\n",
       "       [<matplotlib.axes._subplots.AxesSubplot object at 0x000002092A163370>,\n",
       "        <matplotlib.axes._subplots.AxesSubplot object at 0x000002092A18BB50>,\n",
       "        <matplotlib.axes._subplots.AxesSubplot object at 0x000002092A1EAA00>]],\n",
       "      dtype=object)"
      ]
     },
     "execution_count": 111,
     "metadata": {},
     "output_type": "execute_result"
    },
    {
     "data": {
      "image/png": "[encoded data removed]",
      "text/plain": [
       "<Figure size 1440x1440 with 9 Axes>"
      ]
     },
     "metadata": {
      "needs_background": "light"
     },
     "output_type": "display_data"
    }
   ],
   "source": [
    "train_clean_num_norm[norm_ls].hist(figsize = (20,20))"
   ]
  },
  {
   "cell_type": "markdown",
   "metadata": {},
   "source": [
    "### Data outliers\n"
   ]
  },
  {
   "cell_type": "code",
   "execution_count": 122,
   "metadata": {},
   "outputs": [
    {
     "data": {
      "text/plain": [
       "0.18271722766826098"
      ]
     },
     "execution_count": 122,
     "metadata": {},
     "output_type": "execute_result"
    }
   ],
   "source": [
    "def remove_outliers (df)\n",
    "\n",
    "\n",
    "np.std(train_clean_num_norm['1stFlrSF'])"
   ]
  },
  {
   "cell_type": "code",
   "execution_count": 124,
   "metadata": {},
   "outputs": [
    {
     "data": {
      "text/plain": [
       "5.381825142489245"
      ]
     },
     "execution_count": 124,
     "metadata": {},
     "output_type": "execute_result"
    }
   ],
   "source": [
    "train_clean_num_norm['1stFlrSF'].mean()"
   ]
  },
  {
   "cell_type": "code",
   "execution_count": 98,
   "metadata": {},
   "outputs": [
    {
     "data": {
      "text/plain": [
       "(array([0.        , 1.61383508, 2.97568221]), 0.21397411681763806)"
      ]
     },
     "execution_count": 98,
     "metadata": {},
     "output_type": "execute_result"
    }
   ],
   "source": [
    "y"
   ]
  },
  {
   "cell_type": "code",
   "execution_count": 106,
   "metadata": {},
   "outputs": [
    {
     "data": {
      "text/plain": [
       "array([ 1.,  4., 10.])"
      ]
     },
     "execution_count": 106,
     "metadata": {},
     "output_type": "execute_result"
    }
   ],
   "source": [
    "inv_boxcox(y[0], 0.21397411681763806)"
   ]
  },
  {
   "cell_type": "code",
   "execution_count": null,
   "metadata": {},
   "outputs": [],
   "source": []
  },
  {
   "cell_type": "code",
   "execution_count": null,
   "metadata": {},
   "outputs": [],
   "source": []
  }
 ],
 "metadata": {
  "kernelspec": {
   "display_name": "Python 3",
   "language": "python",
   "name": "python3"
  },
  "language_info": {
   "codemirror_mode": {
    "name": "ipython",
    "version": 3
   },
   "file_extension": ".py",
   "mimetype": "text/x-python",
   "name": "python",
   "nbconvert_exporter": "python",
   "pygments_lexer": "ipython3",
   "version": "3.8.3"
  }
 },
 "nbformat": 4,
 "nbformat_minor": 4
}
